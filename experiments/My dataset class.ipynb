{
 "cells": [
  {
   "cell_type": "code",
   "execution_count": 2,
   "metadata": {},
   "outputs": [],
   "source": [
    "import sys\n",
    "import torch.nn as nn\n",
    "import torch.optim as optim\n",
    "from torchtext.data import TabularDataset, BucketIterator, Field, Iterator\n",
    "sys.path.extend(['/Users/zeerakw/Documents/PhD/projects/active/Generalisable_abuse'])\n",
    "\n",
    "from gen.shared.data import OnehotBatchGenerator, GeneralDataset\n",
    "from gen.neural import RNNClassifier\n",
    "from gen.shared.clean import Cleaner\n",
    "from gen.shared.train import train_model, evaluate_model\n",
    "from sklearn.metrics import accuracy_score"
   ]
  },
  {
   "cell_type": "code",
   "execution_count": null,
   "metadata": {},
   "outputs": [],
   "source": []
  }
 ],
 "metadata": {
  "kernelspec": {
   "display_name": "Python 3",
   "language": "python",
   "name": "python3"
  },
  "language_info": {
   "codemirror_mode": {
    "name": "ipython",
    "version": 3
   },
   "file_extension": ".py",
   "mimetype": "text/x-python",
   "name": "python",
   "nbconvert_exporter": "python",
   "pygments_lexer": "ipython3",
   "version": "3.7.5"
  }
 },
 "nbformat": 4,
 "nbformat_minor": 2
}
