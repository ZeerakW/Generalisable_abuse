{
 "cells": [
  {
   "cell_type": "markdown",
   "metadata": {},
   "source": [
    "# Train on Davidson\n",
    "\n",
    "## Import stuff"
   ]
  },
  {
   "cell_type": "code",
   "execution_count": 1,
   "metadata": {},
   "outputs": [],
   "source": [
    "import os\n",
    "import sys\n",
    "import ipdb\n",
    "from tqdm import tqdm\n",
    "import numpy as np\n",
    "import torch.optim as optim\n",
    "from torchtext.data import TabularDataset, BucketIterator, Field\n",
    "sys.path.extend(['/Users/zeerakw/Documents/PhD/projects/Generalisable_abuse'])\n",
    "\n",
    "import gen.shared.types as t\n",
    "from gen.neural import LSTMClassifier\n",
    "from gen.shared.data import BatchGenerator\n",
    "from gen.shared.clean import Cleaner\n",
    "from gen.shared.train import compute_unigram_liwc"
   ]
  },
  {
   "cell_type": "markdown",
   "metadata": {},
   "source": [
    "## Setup variables"
   ]
  },
  {
   "cell_type": "code",
   "execution_count": 2,
   "metadata": {},
   "outputs": [],
   "source": [
    "text_label = Field(sequential = True,\n",
    "                   include_lengths = False,\n",
    "                   use_vocab = True,\n",
    "                   pad_token = \"<PAD>\",\n",
    "                   unk_token = \"<UNK>\")\n",
    "\n",
    "int_label = Field(sequential = False,\n",
    "                  include_lengths = False,\n",
    "                  use_vocab = False,\n",
    "                  pad_token = None,\n",
    "                  unk_token = None)"
   ]
  },
  {
   "cell_type": "code",
   "execution_count": 3,
   "metadata": {},
   "outputs": [],
   "source": [
    "device = 'cpu'\n",
    "data_dir = '/Users/zeerakw/Documents/PhD/projects/Generalisable_abuse/data/'\n",
    "data_file = 'davidson_test.csv'\n",
    "path = os.path.join(data_dir, data_file)\n",
    "file_format = 'csv'\n",
    "cleaners = ['lower', 'url', 'hashtag', 'username']\n",
    "clean = Cleaner(cleaners)\n",
    "\n",
    "# Set fields\n",
    "text_field = text_label\n",
    "label_field = int_label\n",
    "\n",
    "# Update training field\n",
    "#setattr(text_field, 'tokenize', clean.tokenize)\n",
    "#setattr(text_field, 'preprocessing', compute_unigram_liwc)\n",
    "fields = [('', None), ('CF_count', None), ('hate_speech', None), ('offensive', None), ('neither', None),\n",
    "          ('label', label_field), ('text', text_field)]"
   ]
  },
  {
   "cell_type": "markdown",
   "metadata": {},
   "source": [
    "## Load the data"
   ]
  },
  {
   "cell_type": "code",
   "execution_count": 4,
   "metadata": {},
   "outputs": [],
   "source": [
    "data = TabularDataset(path, format = file_format, fields = fields, skip_header = True)\n",
    "train, test = data.split(split_ratio = 0.8, stratified = True)\n",
    "loaded = (train, test)\n",
    "text_field.build_vocab(train)"
   ]
  },
  {
   "cell_type": "code",
   "execution_count": 5,
   "metadata": {},
   "outputs": [
    {
     "name": "stdout",
     "output_type": "stream",
     "text": [
      "1113\n",
      "19 ['\"@FloKid88:', 'As', 'long', 'as', 'the', 'Lakers', 'trash', 'from', 'now', 'on,', 'I', 'could', 'careless.', 'And', \"that's\", 'real.\".', 'CC:', '@BENBALLER', 'hahaha']\n"
     ]
    }
   ],
   "source": [
    "print(len(text_field.vocab))\n",
    "for doc in train:\n",
    "    print(len(doc.text), doc.text)\n",
    "    break"
   ]
  },
  {
   "cell_type": "code",
   "execution_count": 6,
   "metadata": {},
   "outputs": [],
   "source": [
    "batch_sizes = (64, 64)\n",
    "tmp_train, tmp_test = BucketIterator.splits(loaded, batch_sizes = batch_sizes, sort_key = lambda x: len(x.text),\n",
    "                                            device = device, shuffle = True, repeat = False)"
   ]
  },
  {
   "cell_type": "code",
   "execution_count": 7,
   "metadata": {},
   "outputs": [
    {
     "data": {
      "text/plain": [
       "(tensor([[ 267,    2,  281,  247,  266,    2,  314,    2,  126,  303,  273,  261,\n",
       "           338,  308,  258,  317,  265,  304,    2,  323],\n",
       "         [ 365,  931,   75,  157,   76,   50,  516,   45,  139,  384,    6,  352,\n",
       "           383,  135,  804,  361,  438,    6,    4,  416],\n",
       "         [  27,    3,   84,   31,  730, 1107,   16,   11,  551,  134,  614,   18,\n",
       "           130,   36,   93,   20,  809, 1071,  205,  181],\n",
       "         [ 444,  921,  160, 1039,   14, 1041,  706,   20,  521, 1112,  846,   64,\n",
       "           204,    7,   93,  998,   96,   48, 1081,  181],\n",
       "         [ 464,   33,    7,   33, 1019,   57,   16,    5,  112,  451,   74,  351,\n",
       "           214,   85,   18,  683,  959,  211,    2,  591],\n",
       "         [  15,    8,  115,    7,  818,  701,  630,  199,    4,  864,  102,   88,\n",
       "           158,   72,  179,  467,   96,   34,    1,  952],\n",
       "         [1072,   22,  104,  620,  174,    7, 1003, 1029,   39,  924,    1,    9,\n",
       "            14,  776,  996,  173,  891,   13,    1,  793],\n",
       "         [   9,   16,   17,   11,    3,   22,   25,    8,  896,  805,    1,  210,\n",
       "           171,  965,    1,  207,   96,  883,    1, 1066],\n",
       "         [  99,  408,  750,  665,   22, 1007, 1001,   35,   79,   26,    1,    8,\n",
       "            18,  798,    1,  784,   11,   26,    1,  966],\n",
       "         [  10,  187,   35,   19,   34,    2,  632,   10,    7,  124,    1,  920,\n",
       "           230,  400,    1,   12,   32,   83,    1,  917],\n",
       "         [  51,    2,   81, 1063,   52,    1,   24,    2,  929,    1,    1,    6,\n",
       "           185,    6,    1,   14,    1,  958,    1,  780],\n",
       "         [  53,    1,   48,  992, 1018,    1,   26,    1, 1064,    1,    1,   41,\n",
       "           159, 1037,    1,  176,    1,   28,    1,   32],\n",
       "         [  45,    1,    3,  766,   71,    1,  797,    1,  667,    1,    1,  932,\n",
       "           155,   68,    1,    3,    1,    8,    1,  597],\n",
       "         [ 374,    1,  653,    1,  901,    1,  465,    1,  977,    1,    1,  612,\n",
       "           172,  189,    1,  866,    1,   22,    1,  778],\n",
       "         [   8,    1,  209,    1,    1,    1, 1085,    1,    1,    1,    1,    8,\n",
       "           823,  915,    1,    1,    1,   54,    1,    1],\n",
       "         [  25,    1,    1,    1,    1,    1,  708,    1,    1,    1,    1,    4,\n",
       "          1105,  188,    1,    1,    1,    6,    1,    1],\n",
       "         [  77,    1,    1,    1,    1,    1,   48,    1,    1,    1,    1,   41,\n",
       "           858,    1,    1,    1,    1,  650,    1,    1],\n",
       "         [ 684,    1,    1,    1,    1,    1,   68,    1,    1,    1,    1,   91,\n",
       "             1,    1,    1,    1,    1,  754,    1,    1],\n",
       "         [  40,    1,    1,    1,    1,    1,  659,    1,    1,    1,    1,    5,\n",
       "             1,    1,    1,    1,    1,   80,    1,    1],\n",
       "         [  51,    1,    1,    1,    1,    1,    1,    1,    1,    1,    1,   87,\n",
       "             1,    1,    1,    1,    1,    7,    1,    1],\n",
       "         [  99,    1,    1,    1,    1,    1,    1,    1,    1,    1,    1,  945,\n",
       "             1,    1,    1,    1,    1,   47,    1,    1],\n",
       "         [  10,    1,    1,    1,    1,    1,    1,    1,    1,    1,    1,  983,\n",
       "             1,    1,    1,    1,    1,  775,    1,    1],\n",
       "         [ 627,    1,    1,    1,    1,    1,    1,    1,    1,    1,    1,    1,\n",
       "             1,    1,    1,    1,    1,   10,    1,    1],\n",
       "         [   1,    1,    1,    1,    1,    1,    1,    1,    1,    1,    1,    1,\n",
       "             1,    1,    1,    1,    1,   26,    1,    1]]),\n",
       " tensor([1, 1, 1, 1, 1, 1, 1, 1, 1, 1, 1, 1, 2, 1, 2, 1, 1, 1, 1, 1]))"
      ]
     },
     "execution_count": 7,
     "metadata": {},
     "output_type": "execute_result"
    }
   ],
   "source": [
    "train_batches = BatchGenerator(tmp_train, 'text', 'label')\n",
    "test_batches = BatchGenerator(tmp_test, 'text', 'label')\n",
    "next(iter(train_batches))"
   ]
  },
  {
   "cell_type": "markdown",
   "metadata": {},
   "source": [
    "## Define our model"
   ]
  },
  {
   "cell_type": "code",
   "execution_count": 8,
   "metadata": {},
   "outputs": [],
   "source": [
    "import torch.nn as nn"
   ]
  },
  {
   "cell_type": "code",
   "execution_count": 35,
   "metadata": {},
   "outputs": [],
   "source": [
    "class LSTMClassifier(nn.Module):\n",
    "    def __init__(self, input_dim, embedding_dim, hidden_dim, no_classes, no_layers):\n",
    "        super(LSTMClassifier, self).__init__()\n",
    "        self.emb = nn.Embedding(input_dim, embedding_dim)\n",
    "        self.linear = nn.Linear(embedding_dim, embedding_dim)\n",
    "        self.lstm = nn.LSTM(embedding_dim, hidden_dim)\n",
    "        self.to_output = nn.Linear(hidden_dim, no_classes)\n",
    "        self.softmax = nn.LogSoftmax(dim = 1)\n",
    "    \n",
    "    def forward(self, sequence):\n",
    "        out = self.emb(sequence)\n",
    "        out, last = self.lstm(out)\n",
    "        out = self.to_output(out)\n",
    "        out = self.softmax(out)\n",
    "        return out"
   ]
  },
  {
   "cell_type": "code",
   "execution_count": 36,
   "metadata": {},
   "outputs": [],
   "source": [
    "model = LSTMClassifier(len(text_field.vocab), embedding_dim = 64, hidden_dim = 128, no_classes = 3, no_layers = 1)\n",
    "optimizer = optim.Adam(model.parameters(), lr = 0.01)\n",
    "loss = nn.NLLLoss()\n",
    "\n",
    "def train(model, epochs, batches, loss_func, optimizer):\n",
    "    for epoch in range(epochs):\n",
    "        epoch_loss = []\n",
    "        model.zero_grad()\n",
    "        for X, y in batches:\n",
    "            scores = model(X)\n",
    "            print(X[0])\n",
    "            print(X.shape, y.shape)\n",
    "            loss = loss_func(scores, y)\n",
    "            epoch_loss.append(float(loss))\n",
    "            loss.backward()\n",
    "            optimizer.step()\n",
    "            break\n",
    "        break\n",
    "        print(\"Epoch {0}: Mean Loss: {1}\".format(epoch, np.mean(epoch_loss)))"
   ]
  },
  {
   "cell_type": "code",
   "execution_count": 37,
   "metadata": {},
   "outputs": [
    {
     "name": "stdout",
     "output_type": "stream",
     "text": [
      "tensor([304, 243, 273,   2,  94, 297, 248, 279, 250, 247,   2,   2, 277, 325,\n",
      "         94, 328,   2, 341,   2, 265, 322, 261, 278, 292,   2,   2,   2,   2,\n",
      "        268,   2,   2, 294, 291,   2,   2,   2, 289,   2, 129,   2, 259, 240,\n",
      "        331, 126, 262,   2, 336, 319, 335, 300, 128, 333, 282, 305, 310,   2,\n",
      "          2, 253, 264, 244, 263, 320, 127, 255])\n",
      "torch.Size([28, 64]) torch.Size([64])\n"
     ]
    },
    {
     "ename": "ValueError",
     "evalue": "Expected input batch_size (28) to match target batch_size (64).",
     "output_type": "error",
     "traceback": [
      "\u001b[0;31m---------------------------------------------------------------------------\u001b[0m",
      "\u001b[0;31mValueError\u001b[0m                                Traceback (most recent call last)",
      "\u001b[0;32m<ipython-input-37-22c7b65b7517>\u001b[0m in \u001b[0;36m<module>\u001b[0;34m\u001b[0m\n\u001b[0;32m----> 1\u001b[0;31m \u001b[0mtrain\u001b[0m\u001b[0;34m(\u001b[0m\u001b[0mmodel\u001b[0m\u001b[0;34m,\u001b[0m \u001b[0;36m10\u001b[0m\u001b[0;34m,\u001b[0m \u001b[0mtrain_batches\u001b[0m\u001b[0;34m,\u001b[0m \u001b[0mloss\u001b[0m\u001b[0;34m,\u001b[0m \u001b[0moptimizer\u001b[0m\u001b[0;34m)\u001b[0m\u001b[0;34m\u001b[0m\u001b[0;34m\u001b[0m\u001b[0m\n\u001b[0m",
      "\u001b[0;32m<ipython-input-36-689e4e32f20d>\u001b[0m in \u001b[0;36mtrain\u001b[0;34m(model, epochs, batches, loss_func, optimizer)\u001b[0m\n\u001b[1;32m     11\u001b[0m             \u001b[0mprint\u001b[0m\u001b[0;34m(\u001b[0m\u001b[0mX\u001b[0m\u001b[0;34m[\u001b[0m\u001b[0;36m0\u001b[0m\u001b[0;34m]\u001b[0m\u001b[0;34m)\u001b[0m\u001b[0;34m\u001b[0m\u001b[0;34m\u001b[0m\u001b[0m\n\u001b[1;32m     12\u001b[0m             \u001b[0mprint\u001b[0m\u001b[0;34m(\u001b[0m\u001b[0mX\u001b[0m\u001b[0;34m.\u001b[0m\u001b[0mshape\u001b[0m\u001b[0;34m,\u001b[0m \u001b[0my\u001b[0m\u001b[0;34m.\u001b[0m\u001b[0mshape\u001b[0m\u001b[0;34m)\u001b[0m\u001b[0;34m\u001b[0m\u001b[0;34m\u001b[0m\u001b[0m\n\u001b[0;32m---> 13\u001b[0;31m             \u001b[0mloss\u001b[0m \u001b[0;34m=\u001b[0m \u001b[0mloss_func\u001b[0m\u001b[0;34m(\u001b[0m\u001b[0mscores\u001b[0m\u001b[0;34m,\u001b[0m \u001b[0my\u001b[0m\u001b[0;34m)\u001b[0m\u001b[0;34m\u001b[0m\u001b[0;34m\u001b[0m\u001b[0m\n\u001b[0m\u001b[1;32m     14\u001b[0m             \u001b[0mepoch_loss\u001b[0m\u001b[0;34m.\u001b[0m\u001b[0mappend\u001b[0m\u001b[0;34m(\u001b[0m\u001b[0mfloat\u001b[0m\u001b[0;34m(\u001b[0m\u001b[0mloss\u001b[0m\u001b[0;34m)\u001b[0m\u001b[0;34m)\u001b[0m\u001b[0;34m\u001b[0m\u001b[0;34m\u001b[0m\u001b[0m\n\u001b[1;32m     15\u001b[0m             \u001b[0mloss\u001b[0m\u001b[0;34m.\u001b[0m\u001b[0mbackward\u001b[0m\u001b[0;34m(\u001b[0m\u001b[0;34m)\u001b[0m\u001b[0;34m\u001b[0m\u001b[0;34m\u001b[0m\u001b[0m\n",
      "\u001b[0;32m~/.virtualenvs/generalisable/lib/python3.7/site-packages/torch/nn/modules/module.py\u001b[0m in \u001b[0;36m__call__\u001b[0;34m(self, *input, **kwargs)\u001b[0m\n\u001b[1;32m    545\u001b[0m             \u001b[0mresult\u001b[0m \u001b[0;34m=\u001b[0m \u001b[0mself\u001b[0m\u001b[0;34m.\u001b[0m\u001b[0m_slow_forward\u001b[0m\u001b[0;34m(\u001b[0m\u001b[0;34m*\u001b[0m\u001b[0minput\u001b[0m\u001b[0;34m,\u001b[0m \u001b[0;34m**\u001b[0m\u001b[0mkwargs\u001b[0m\u001b[0;34m)\u001b[0m\u001b[0;34m\u001b[0m\u001b[0;34m\u001b[0m\u001b[0m\n\u001b[1;32m    546\u001b[0m         \u001b[0;32melse\u001b[0m\u001b[0;34m:\u001b[0m\u001b[0;34m\u001b[0m\u001b[0;34m\u001b[0m\u001b[0m\n\u001b[0;32m--> 547\u001b[0;31m             \u001b[0mresult\u001b[0m \u001b[0;34m=\u001b[0m \u001b[0mself\u001b[0m\u001b[0;34m.\u001b[0m\u001b[0mforward\u001b[0m\u001b[0;34m(\u001b[0m\u001b[0;34m*\u001b[0m\u001b[0minput\u001b[0m\u001b[0;34m,\u001b[0m \u001b[0;34m**\u001b[0m\u001b[0mkwargs\u001b[0m\u001b[0;34m)\u001b[0m\u001b[0;34m\u001b[0m\u001b[0;34m\u001b[0m\u001b[0m\n\u001b[0m\u001b[1;32m    548\u001b[0m         \u001b[0;32mfor\u001b[0m \u001b[0mhook\u001b[0m \u001b[0;32min\u001b[0m \u001b[0mself\u001b[0m\u001b[0;34m.\u001b[0m\u001b[0m_forward_hooks\u001b[0m\u001b[0;34m.\u001b[0m\u001b[0mvalues\u001b[0m\u001b[0;34m(\u001b[0m\u001b[0;34m)\u001b[0m\u001b[0;34m:\u001b[0m\u001b[0;34m\u001b[0m\u001b[0;34m\u001b[0m\u001b[0m\n\u001b[1;32m    549\u001b[0m             \u001b[0mhook_result\u001b[0m \u001b[0;34m=\u001b[0m \u001b[0mhook\u001b[0m\u001b[0;34m(\u001b[0m\u001b[0mself\u001b[0m\u001b[0;34m,\u001b[0m \u001b[0minput\u001b[0m\u001b[0;34m,\u001b[0m \u001b[0mresult\u001b[0m\u001b[0;34m)\u001b[0m\u001b[0;34m\u001b[0m\u001b[0;34m\u001b[0m\u001b[0m\n",
      "\u001b[0;32m~/.virtualenvs/generalisable/lib/python3.7/site-packages/torch/nn/modules/loss.py\u001b[0m in \u001b[0;36mforward\u001b[0;34m(self, input, target)\u001b[0m\n\u001b[1;32m    202\u001b[0m \u001b[0;34m\u001b[0m\u001b[0m\n\u001b[1;32m    203\u001b[0m     \u001b[0;32mdef\u001b[0m \u001b[0mforward\u001b[0m\u001b[0;34m(\u001b[0m\u001b[0mself\u001b[0m\u001b[0;34m,\u001b[0m \u001b[0minput\u001b[0m\u001b[0;34m,\u001b[0m \u001b[0mtarget\u001b[0m\u001b[0;34m)\u001b[0m\u001b[0;34m:\u001b[0m\u001b[0;34m\u001b[0m\u001b[0;34m\u001b[0m\u001b[0m\n\u001b[0;32m--> 204\u001b[0;31m         \u001b[0;32mreturn\u001b[0m \u001b[0mF\u001b[0m\u001b[0;34m.\u001b[0m\u001b[0mnll_loss\u001b[0m\u001b[0;34m(\u001b[0m\u001b[0minput\u001b[0m\u001b[0;34m,\u001b[0m \u001b[0mtarget\u001b[0m\u001b[0;34m,\u001b[0m \u001b[0mweight\u001b[0m\u001b[0;34m=\u001b[0m\u001b[0mself\u001b[0m\u001b[0;34m.\u001b[0m\u001b[0mweight\u001b[0m\u001b[0;34m,\u001b[0m \u001b[0mignore_index\u001b[0m\u001b[0;34m=\u001b[0m\u001b[0mself\u001b[0m\u001b[0;34m.\u001b[0m\u001b[0mignore_index\u001b[0m\u001b[0;34m,\u001b[0m \u001b[0mreduction\u001b[0m\u001b[0;34m=\u001b[0m\u001b[0mself\u001b[0m\u001b[0;34m.\u001b[0m\u001b[0mreduction\u001b[0m\u001b[0;34m)\u001b[0m\u001b[0;34m\u001b[0m\u001b[0;34m\u001b[0m\u001b[0m\n\u001b[0m\u001b[1;32m    205\u001b[0m \u001b[0;34m\u001b[0m\u001b[0m\n\u001b[1;32m    206\u001b[0m \u001b[0;34m\u001b[0m\u001b[0m\n",
      "\u001b[0;32m~/.virtualenvs/generalisable/lib/python3.7/site-packages/torch/nn/functional.py\u001b[0m in \u001b[0;36mnll_loss\u001b[0;34m(input, target, weight, size_average, ignore_index, reduce, reduction)\u001b[0m\n\u001b[1;32m   1820\u001b[0m     \u001b[0;32mif\u001b[0m \u001b[0minput\u001b[0m\u001b[0;34m.\u001b[0m\u001b[0msize\u001b[0m\u001b[0;34m(\u001b[0m\u001b[0;36m0\u001b[0m\u001b[0;34m)\u001b[0m \u001b[0;34m!=\u001b[0m \u001b[0mtarget\u001b[0m\u001b[0;34m.\u001b[0m\u001b[0msize\u001b[0m\u001b[0;34m(\u001b[0m\u001b[0;36m0\u001b[0m\u001b[0;34m)\u001b[0m\u001b[0;34m:\u001b[0m\u001b[0;34m\u001b[0m\u001b[0;34m\u001b[0m\u001b[0m\n\u001b[1;32m   1821\u001b[0m         raise ValueError('Expected input batch_size ({}) to match target batch_size ({}).'\n\u001b[0;32m-> 1822\u001b[0;31m                          .format(input.size(0), target.size(0)))\n\u001b[0m\u001b[1;32m   1823\u001b[0m     \u001b[0;32mif\u001b[0m \u001b[0mdim\u001b[0m \u001b[0;34m==\u001b[0m \u001b[0;36m2\u001b[0m\u001b[0;34m:\u001b[0m\u001b[0;34m\u001b[0m\u001b[0;34m\u001b[0m\u001b[0m\n\u001b[1;32m   1824\u001b[0m         \u001b[0mret\u001b[0m \u001b[0;34m=\u001b[0m \u001b[0mtorch\u001b[0m\u001b[0;34m.\u001b[0m\u001b[0m_C\u001b[0m\u001b[0;34m.\u001b[0m\u001b[0m_nn\u001b[0m\u001b[0;34m.\u001b[0m\u001b[0mnll_loss\u001b[0m\u001b[0;34m(\u001b[0m\u001b[0minput\u001b[0m\u001b[0;34m,\u001b[0m \u001b[0mtarget\u001b[0m\u001b[0;34m,\u001b[0m \u001b[0mweight\u001b[0m\u001b[0;34m,\u001b[0m \u001b[0m_Reduction\u001b[0m\u001b[0;34m.\u001b[0m\u001b[0mget_enum\u001b[0m\u001b[0;34m(\u001b[0m\u001b[0mreduction\u001b[0m\u001b[0;34m)\u001b[0m\u001b[0;34m,\u001b[0m \u001b[0mignore_index\u001b[0m\u001b[0;34m)\u001b[0m\u001b[0;34m\u001b[0m\u001b[0;34m\u001b[0m\u001b[0m\n",
      "\u001b[0;31mValueError\u001b[0m: Expected input batch_size (28) to match target batch_size (64)."
     ]
    }
   ],
   "source": [
    "train(model, 10, train_batches, loss, optimizer)"
   ]
  },
  {
   "cell_type": "code",
   "execution_count": null,
   "metadata": {},
   "outputs": [],
   "source": []
  },
  {
   "cell_type": "code",
   "execution_count": null,
   "metadata": {},
   "outputs": [],
   "source": []
  }
 ],
 "metadata": {
  "kernelspec": {
   "display_name": "Python 3",
   "language": "python",
   "name": "python3"
  },
  "language_info": {
   "codemirror_mode": {
    "name": "ipython",
    "version": 3
   },
   "file_extension": ".py",
   "mimetype": "text/x-python",
   "name": "python",
   "nbconvert_exporter": "python",
   "pygments_lexer": "ipython3",
   "version": "3.7.4"
  }
 },
 "nbformat": 4,
 "nbformat_minor": 2
}
